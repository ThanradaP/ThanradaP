{
 "cells": [
  {
   "cell_type": "markdown",
   "metadata": {},
   "source": [
    "# Import necessary libraries"
   ]
  },
  {
   "cell_type": "code",
   "execution_count": 1,
   "metadata": {},
   "outputs": [],
   "source": [
    "import io\n",
    "import random\n",
    "import numpy as np\n",
    "import re, string, unicodedata\n",
    "from sklearn.metrics.pairwise import cosine_similarity, linear_kernel\n",
    "from sklearn.feature_extraction.text import TfidfVectorizer\n",
    "import warnings\n",
    "warnings.filterwarnings('ignore')"
   ]
  },
  {
   "cell_type": "code",
   "execution_count": 2,
   "metadata": {
    "scrolled": true
   },
   "outputs": [
    {
     "name": "stdout",
     "output_type": "stream",
     "text": [
      "Requirement already satisfied: nltk in c:\\users\\sodom\\anaconda3\\lib\\site-packages (3.5)\n",
      "Requirement already satisfied: tqdm in c:\\users\\sodom\\anaconda3\\lib\\site-packages (from nltk) (4.47.0)\n",
      "Requirement already satisfied: click in c:\\users\\sodom\\anaconda3\\lib\\site-packages (from nltk) (7.1.2)\n",
      "Requirement already satisfied: joblib in c:\\users\\sodom\\anaconda3\\lib\\site-packages (from nltk) (0.16.0)\n",
      "Requirement already satisfied: regex in c:\\users\\sodom\\anaconda3\\lib\\site-packages (from nltk) (2020.6.8)\n",
      "Note: you may need to restart the kernel to use updated packages.\n"
     ]
    }
   ],
   "source": [
    "pip install nltk"
   ]
  },
  {
   "cell_type": "code",
   "execution_count": 3,
   "metadata": {
    "scrolled": true
   },
   "outputs": [
    {
     "data": {
      "text/plain": [
       "True"
      ]
     },
     "execution_count": 3,
     "metadata": {},
     "output_type": "execute_result"
    }
   ],
   "source": [
    "\n",
    "import nltk\n",
    "from nltk.stem import WordNetLemmatizer\n",
    "nltk.download('popular', quiet=True) # for downloading packages\n",
    "#nltk.download('punkt') # first-time use only\n",
    "#nltk.download('wordnet') # first-time use only"
   ]
  },
  {
   "cell_type": "markdown",
   "metadata": {},
   "source": [
    "# import raw text"
   ]
  },
  {
   "cell_type": "code",
   "execution_count": 4,
   "metadata": {
    "scrolled": true
   },
   "outputs": [
    {
     "data": {
      "text/plain": [
       "'Coronavirus is a large family of viruses that are known to cause illness ranging from the common cold to more severe diseases such as Middle East Respiratory Syndrome (MERS) and Severe Acute Respiratory Syndrome (SARS).\\n\\nA novel coronavirus (CoV) is a new strain of coronavirus that has not been previously identified in humans.\\n\\nCan humans become infected with a novel coronavirus of animal source?\\nDetailed investigations found that SARS-CoV was transmitted from civet cats to humans in China in 2002 and MERS-CoV from dromedary camels to humans in Saudi Arabia in 2012. Several known coronaviruses are circulating in animals that have not yet infected humans. As surveillance improves around the world, more coronaviruses are likely to be identified.\\n\\nthe symptoms It depends on the virus, but common signs include respiratory symptoms, fever, cough, shortness of breath, and breathing difficulties. In more severe cases, infection can cause pneumonia, severe acute respiratory syndrome, kidney failure and even death.\\n\\nWhen a disease is new, there is no vaccine until one is developed. It can take a number of years for a new vaccine to be developed.\\n\\nThere is no specific treatment for disease caused by a novel coronavirus. However, many of the symptoms can be treated and therefore treatment based on the patientโ€s clinical condition. Moreover, supportive care for infected persons can be highly effective.\\n\\n\\nStandard recommendations protection to reduce exposure to and transmission of a range of illnesses include maintaining basic hand and respiratory hygiene, and safe food practices  and avoiding close contact, when possible, with anyone showing symptoms of respiratory illness such as coughing and sneezing.\\n\\nAre health workers at risk from a novel coronavirus?\\nthey can be, as health care workers come into contact with patients more often than the general public WHO recommends that health care workers consistently apply appropriate\\n\\nWHO reccomend\\nWHO encourages all countries to enhance their surveillance for severe acute respiratory infections (SARI), to carefully review any unusual patterns of SARI or pneumonia cases and to notify WHO of any suspected or confirmed case of infection with novel coronavirus.\\n\\nCountries are encouraged to continue strengthening their preparedness for health emergencies in line with the International Health Regulations (2005).\\n'"
      ]
     },
     "execution_count": 4,
     "metadata": {},
     "output_type": "execute_result"
    }
   ],
   "source": [
    "f=open('chatbot.txt','r',errors = 'ignore')\n",
    "raw=f.read()\n",
    "raw"
   ]
  },
  {
   "cell_type": "markdown",
   "metadata": {},
   "source": [
    "# Lowercase except some special strings"
   ]
  },
  {
   "cell_type": "code",
   "execution_count": 5,
   "metadata": {},
   "outputs": [],
   "source": [
    "import itertools"
   ]
  },
  {
   "cell_type": "markdown",
   "metadata": {},
   "source": [
    "get list of specific name which are all uppercase"
   ]
  },
  {
   "cell_type": "code",
   "execution_count": 6,
   "metadata": {},
   "outputs": [],
   "source": [
    "specific_word = [' '.join(b) for a, b in itertools.groupby(raw.split(), key=str.isupper) if a]"
   ]
  },
  {
   "cell_type": "code",
   "execution_count": 7,
   "metadata": {},
   "outputs": [
    {
     "data": {
      "text/plain": [
       "['(MERS)', '(SARS). A', 'WHO', 'WHO', 'WHO', '(SARI),', 'SARI', 'WHO']"
      ]
     },
     "execution_count": 7,
     "metadata": {},
     "output_type": "execute_result"
    }
   ],
   "source": [
    "specific_word"
   ]
  },
  {
   "cell_type": "markdown",
   "metadata": {},
   "source": [
    "remove duplicated specific name in list "
   ]
  },
  {
   "cell_type": "code",
   "execution_count": 8,
   "metadata": {},
   "outputs": [
    {
     "data": {
      "text/plain": [
       "['(SARS). A', 'SARI', 'WHO', '(MERS)', '(SARI),']"
      ]
     },
     "execution_count": 8,
     "metadata": {},
     "output_type": "execute_result"
    }
   ],
   "source": [
    "specific_word = list(set(specific_word))\n",
    "specific_word"
   ]
  },
  {
   "cell_type": "markdown",
   "metadata": {},
   "source": [
    "convert a string to lowercase except some special strings (specific_word)"
   ]
  },
  {
   "cell_type": "code",
   "execution_count": 9,
   "metadata": {},
   "outputs": [],
   "source": [
    "toLower = lambda x: \" \".join( a if a in specific_word  else a.lower()\n",
    "            for a in x.split() )"
   ]
  },
  {
   "cell_type": "code",
   "execution_count": 10,
   "metadata": {
    "scrolled": false
   },
   "outputs": [],
   "source": [
    "# print (toLower(data))"
   ]
  },
  {
   "cell_type": "code",
   "execution_count": 11,
   "metadata": {},
   "outputs": [
    {
     "data": {
      "text/plain": [
       "'coronavirus is a large family of viruses that are known to cause illness ranging from the common cold to more severe diseases such as middle east respiratory syndrome (MERS) and severe acute respiratory syndrome (sars). a novel coronavirus (cov) is a new strain of coronavirus that has not been previously identified in humans. can humans become infected with a novel coronavirus of animal source? detailed investigations found that sars-cov was transmitted from civet cats to humans in china in 2002 and mers-cov from dromedary camels to humans in saudi arabia in 2012. several known coronaviruses are circulating in animals that have not yet infected humans. as surveillance improves around the world, more coronaviruses are likely to be identified. the symptoms it depends on the virus, but common signs include respiratory symptoms, fever, cough, shortness of breath, and breathing difficulties. in more severe cases, infection can cause pneumonia, severe acute respiratory syndrome, kidney failure and even death. when a disease is new, there is no vaccine until one is developed. it can take a number of years for a new vaccine to be developed. there is no specific treatment for disease caused by a novel coronavirus. however, many of the symptoms can be treated and therefore treatment based on the patientโ€s clinical condition. moreover, supportive care for infected persons can be highly effective. standard recommendations protection to reduce exposure to and transmission of a range of illnesses include maintaining basic hand and respiratory hygiene, and safe food practices and avoiding close contact, when possible, with anyone showing symptoms of respiratory illness such as coughing and sneezing. are health workers at risk from a novel coronavirus? they can be, as health care workers come into contact with patients more often than the general public WHO recommends that health care workers consistently apply appropriate WHO reccomend WHO encourages all countries to enhance their surveillance for severe acute respiratory infections (SARI), to carefully review any unusual patterns of SARI or pneumonia cases and to notify WHO of any suspected or confirmed case of infection with novel coronavirus. countries are encouraged to continue strengthening their preparedness for health emergencies in line with the international health regulations (2005).'"
      ]
     },
     "execution_count": 11,
     "metadata": {},
     "output_type": "execute_result"
    }
   ],
   "source": [
    "data = toLower(raw)\n",
    "data"
   ]
  },
  {
   "cell_type": "markdown",
   "metadata": {},
   "source": [
    "# Tokenisation"
   ]
  },
  {
   "cell_type": "code",
   "execution_count": 27,
   "metadata": {},
   "outputs": [],
   "source": [
    "sent_tokens = nltk.sent_tokenize(data)# converts to list of sentences \n",
    "word_token = nltk.word_tokenize(data)# converts to list of words"
   ]
  },
  {
   "cell_type": "code",
   "execution_count": 13,
   "metadata": {
    "scrolled": false
   },
   "outputs": [
    {
     "name": "stdout",
     "output_type": "stream",
     "text": [
      "The number of sentences is 16\n",
      "The number of tokens is 405\n"
     ]
    }
   ],
   "source": [
    "print(\"The number of sentences is\", len(sent_tokens))\n",
    "print(\"The number of tokens is\", len(word_token))"
   ]
  },
  {
   "cell_type": "code",
   "execution_count": 29,
   "metadata": {
    "scrolled": true
   },
   "outputs": [
    {
     "name": "stdout",
     "output_type": "stream",
     "text": [
      "['coronavirus is a large family of viruses that are known to cause illness ranging from the common cold to more severe diseases such as middle east respiratory syndrome (MERS) and severe acute respiratory syndrome (sars).', 'a novel coronavirus (cov) is a new strain of coronavirus that has not been previously identified in humans.', 'can humans become infected with a novel coronavirus of animal source?', 'detailed investigations found that sars-cov was transmitted from civet cats to humans in china in 2002 and mers-cov from dromedary camels to humans in saudi arabia in 2012. several known coronaviruses are circulating in animals that have not yet infected humans.', 'as surveillance improves around the world, more coronaviruses are likely to be identified.', 'the symptoms it depends on the virus, but common signs include respiratory symptoms, fever, cough, shortness of breath, and breathing difficulties.', 'in more severe cases, infection can cause pneumonia, severe acute respiratory syndrome, kidney failure and even death.', 'when a disease is new, there is no vaccine until one is developed.', 'it can take a number of years for a new vaccine to be developed.', 'there is no specific treatment for disease caused by a novel coronavirus.', 'however, many of the symptoms can be treated and therefore treatment based on the patientโ€s clinical condition.', 'moreover, supportive care for infected persons can be highly effective.', 'standard recommendations protection to reduce exposure to and transmission of a range of illnesses include maintaining basic hand and respiratory hygiene, and safe food practices and avoiding close contact, when possible, with anyone showing symptoms of respiratory illness such as coughing and sneezing.', 'are health workers at risk from a novel coronavirus?', 'they can be, as health care workers come into contact with patients more often than the general public WHO recommends that health care workers consistently apply appropriate WHO reccomend WHO encourages all countries to enhance their surveillance for severe acute respiratory infections (SARI), to carefully review any unusual patterns of SARI or pneumonia cases and to notify WHO of any suspected or confirmed case of infection with novel coronavirus.', 'countries are encouraged to continue strengthening their preparedness for health emergencies in line with the international health regulations (2005).']\n"
     ]
    }
   ],
   "source": [
    "print(sent_tokens)"
   ]
  },
  {
   "cell_type": "code",
   "execution_count": 30,
   "metadata": {},
   "outputs": [
    {
     "name": "stdout",
     "output_type": "stream",
     "text": [
      "['coronavirus', 'is', 'a', 'large', 'family', 'of', 'viruses', 'that', 'are', 'known', 'to', 'cause', 'illness', 'ranging', 'from', 'the', 'common', 'cold', 'to', 'more', 'severe', 'diseases', 'such', 'as', 'middle', 'east', 'respiratory', 'syndrome', '(', 'MERS', ')', 'and', 'severe', 'acute', 'respiratory', 'syndrome', '(', 'sars', ')', '.', 'a', 'novel', 'coronavirus', '(', 'cov', ')', 'is', 'a', 'new', 'strain', 'of', 'coronavirus', 'that', 'has', 'not', 'been', 'previously', 'identified', 'in', 'humans', '.', 'can', 'humans', 'become', 'infected', 'with', 'a', 'novel', 'coronavirus', 'of', 'animal', 'source', '?', 'detailed', 'investigations', 'found', 'that', 'sars-cov', 'was', 'transmitted', 'from', 'civet', 'cats', 'to', 'humans', 'in', 'china', 'in', '2002', 'and', 'mers-cov', 'from', 'dromedary', 'camels', 'to', 'humans', 'in', 'saudi', 'arabia', 'in', '2012.', 'several', 'known', 'coronaviruses', 'are', 'circulating', 'in', 'animals', 'that', 'have', 'not', 'yet', 'infected', 'humans', '.', 'as', 'surveillance', 'improves', 'around', 'the', 'world', ',', 'more', 'coronaviruses', 'are', 'likely', 'to', 'be', 'identified', '.', 'the', 'symptoms', 'it', 'depends', 'on', 'the', 'virus', ',', 'but', 'common', 'signs', 'include', 'respiratory', 'symptoms', ',', 'fever', ',', 'cough', ',', 'shortness', 'of', 'breath', ',', 'and', 'breathing', 'difficulties', '.', 'in', 'more', 'severe', 'cases', ',', 'infection', 'can', 'cause', 'pneumonia', ',', 'severe', 'acute', 'respiratory', 'syndrome', ',', 'kidney', 'failure', 'and', 'even', 'death', '.', 'when', 'a', 'disease', 'is', 'new', ',', 'there', 'is', 'no', 'vaccine', 'until', 'one', 'is', 'developed', '.', 'it', 'can', 'take', 'a', 'number', 'of', 'years', 'for', 'a', 'new', 'vaccine', 'to', 'be', 'developed', '.', 'there', 'is', 'no', 'specific', 'treatment', 'for', 'disease', 'caused', 'by', 'a', 'novel', 'coronavirus', '.', 'however', ',', 'many', 'of', 'the', 'symptoms', 'can', 'be', 'treated', 'and', 'therefore', 'treatment', 'based', 'on', 'the', 'patientโ€s', 'clinical', 'condition', '.', 'moreover', ',', 'supportive', 'care', 'for', 'infected', 'persons', 'can', 'be', 'highly', 'effective', '.', 'standard', 'recommendations', 'protection', 'to', 'reduce', 'exposure', 'to', 'and', 'transmission', 'of', 'a', 'range', 'of', 'illnesses', 'include', 'maintaining', 'basic', 'hand', 'and', 'respiratory', 'hygiene', ',', 'and', 'safe', 'food', 'practices', 'and', 'avoiding', 'close', 'contact', ',', 'when', 'possible', ',', 'with', 'anyone', 'showing', 'symptoms', 'of', 'respiratory', 'illness', 'such', 'as', 'coughing', 'and', 'sneezing', '.', 'are', 'health', 'workers', 'at', 'risk', 'from', 'a', 'novel', 'coronavirus', '?', 'they', 'can', 'be', ',', 'as', 'health', 'care', 'workers', 'come', 'into', 'contact', 'with', 'patients', 'more', 'often', 'than', 'the', 'general', 'public', 'WHO', 'recommends', 'that', 'health', 'care', 'workers', 'consistently', 'apply', 'appropriate', 'WHO', 'reccomend', 'WHO', 'encourages', 'all', 'countries', 'to', 'enhance', 'their', 'surveillance', 'for', 'severe', 'acute', 'respiratory', 'infections', '(', 'SARI', ')', ',', 'to', 'carefully', 'review', 'any', 'unusual', 'patterns', 'of', 'SARI', 'or', 'pneumonia', 'cases', 'and', 'to', 'notify', 'WHO', 'of', 'any', 'suspected', 'or', 'confirmed', 'case', 'of', 'infection', 'with', 'novel', 'coronavirus', '.', 'countries', 'are', 'encouraged', 'to', 'continue', 'strengthening', 'their', 'preparedness', 'for', 'health', 'emergencies', 'in', 'line', 'with', 'the', 'international', 'health', 'regulations', '(', '2005', ')', '.']\n"
     ]
    }
   ],
   "source": [
    "print(word_token)"
   ]
  },
  {
   "cell_type": "markdown",
   "metadata": {},
   "source": [
    "# Remove stopword & punctuation"
   ]
  },
  {
   "cell_type": "code",
   "execution_count": 33,
   "metadata": {},
   "outputs": [],
   "source": [
    "from nltk.corpus import stopwords\n",
    "stop_words = set(stopwords.words('english'))\n",
    "word_tokens = []"
   ]
  },
  {
   "cell_type": "code",
   "execution_count": 43,
   "metadata": {},
   "outputs": [
    {
     "name": "stdout",
     "output_type": "stream",
     "text": [
      "more\n",
      "or\n",
      "him\n",
      "which\n",
      "so\n",
      "y\n",
      "further\n",
      "doesn't\n",
      "after\n",
      "only\n",
      "was\n",
      "that'll\n",
      "couldn\n",
      "during\n",
      "you\n",
      "were\n",
      "once\n",
      "yourself\n",
      "has\n"
     ]
    }
   ],
   "source": [
    "count = 0\n",
    "for i in iter(stop_words):\n",
    "    count = count + 1\n",
    "    if count == 20:\n",
    "        break\n",
    "    print(i)"
   ]
  },
  {
   "cell_type": "code",
   "execution_count": 16,
   "metadata": {},
   "outputs": [],
   "source": [
    "for i in word_token:\n",
    "    if (i not in stop_words and i not in string.punctuation):\n",
    "        word_tokens.append(i)"
   ]
  },
  {
   "cell_type": "code",
   "execution_count": 17,
   "metadata": {},
   "outputs": [
    {
     "name": "stdout",
     "output_type": "stream",
     "text": [
      "The number of total tokens after removing stopwords are 220\n"
     ]
    }
   ],
   "source": [
    "print(\"The number of total tokens after removing stopwords are\", len((word_tokens)))"
   ]
  },
  {
   "cell_type": "code",
   "execution_count": 18,
   "metadata": {
    "scrolled": false
   },
   "outputs": [
    {
     "name": "stdout",
     "output_type": "stream",
     "text": [
      "after I removed stop words and punctuation:\n"
     ]
    },
    {
     "data": {
      "text/plain": [
       "['coronavirus',\n",
       " 'large',\n",
       " 'family',\n",
       " 'viruses',\n",
       " 'known',\n",
       " 'cause',\n",
       " 'illness',\n",
       " 'ranging',\n",
       " 'common',\n",
       " 'cold']"
      ]
     },
     "execution_count": 18,
     "metadata": {},
     "output_type": "execute_result"
    }
   ],
   "source": [
    "print('after I removed stop words and punctuation:')\n",
    "word_tokens[:10]"
   ]
  },
  {
   "cell_type": "markdown",
   "metadata": {},
   "source": [
    "# Preprocessing"
   ]
  },
  {
   "cell_type": "markdown",
   "metadata": {},
   "source": [
    "## see what happen in Lemmatization"
   ]
  },
  {
   "cell_type": "code",
   "execution_count": 19,
   "metadata": {},
   "outputs": [],
   "source": [
    "lemmer = WordNetLemmatizer()\n",
    "def print_lemma_stem(word_list):\n",
    "    for word in word_list:\n",
    "        print(f'{word} ==> {lemmer.lemmatize(word)}')"
   ]
  },
  {
   "cell_type": "markdown",
   "metadata": {},
   "source": [
    "Fetch first 10 result from a list of word_tokens after lemmatizing"
   ]
  },
  {
   "cell_type": "code",
   "execution_count": 20,
   "metadata": {
    "scrolled": true
   },
   "outputs": [
    {
     "name": "stdout",
     "output_type": "stream",
     "text": [
      "coronavirus ==> coronavirus\n",
      "large ==> large\n",
      "family ==> family\n",
      "viruses ==> virus\n",
      "known ==> known\n",
      "cause ==> cause\n",
      "illness ==> illness\n",
      "ranging ==> ranging\n",
      "common ==> common\n",
      "cold ==> cold\n"
     ]
    }
   ],
   "source": [
    "print_lemma_stem(word_tokens[:10])"
   ]
  },
  {
   "cell_type": "markdown",
   "metadata": {},
   "source": [
    "## see what happen in stemming"
   ]
  },
  {
   "cell_type": "code",
   "execution_count": 21,
   "metadata": {
    "scrolled": false
   },
   "outputs": [
    {
     "name": "stdout",
     "output_type": "stream",
     "text": [
      "coronavirus ==> coronaviru\n",
      "large ==> larg\n",
      "family ==> famili\n",
      "viruses ==> virus\n",
      "known ==> known\n",
      "cause ==> caus\n",
      "illness ==> ill\n",
      "ranging ==> rang\n",
      "common ==> common\n",
      "cold ==> cold\n"
     ]
    }
   ],
   "source": [
    "from nltk.stem.porter import PorterStemmer\n",
    "# Instantiate stemming class\n",
    "stemmer = PorterStemmer() \n",
    "stem_porter = []\n",
    "\n",
    "def print_porter_stem(word_list):\n",
    "    for word in word_list:\n",
    "        print(f'{word} ==> {stemmer.stem(word)}')\n",
    "\n",
    "print_porter_stem(word_tokens[:10])"
   ]
  },
  {
   "cell_type": "markdown",
   "metadata": {},
   "source": [
    "จากการเปรียบเทียบการทำงานของ stemming และ lemmatization พบว่า stemmimg มีการเปลี่ยนแปลงที่มากกว่า แต่บางครั้งก็เปลี่ยนแปลงจนผิดความหมาย เช่นจากตัวอย่างด้านบนจะเห็นว่า cause ถูกเปลี่ยนเป็น caus ซึ่งกลายเป็นคำไม่มีความหมาย\n",
    "ดังนั้น จึงเลือกทำแค่ Lemmatization เพียงอย่างเดียวก็น่าจะเพียงพอ"
   ]
  },
  {
   "cell_type": "markdown",
   "metadata": {},
   "source": [
    "# Define function of Lemmatization"
   ]
  },
  {
   "cell_type": "code",
   "execution_count": 22,
   "metadata": {},
   "outputs": [],
   "source": [
    "def LemTokens(tokens):\n",
    "    return [lemmer.lemmatize(token) for token in tokens]\n",
    "remove_punct_dict = dict((ord(punct), None) for punct in string.punctuation)\n",
    "\n",
    "def LemNormalize(text):\n",
    "    return LemTokens(nltk.word_tokenize(text.translate(remove_punct_dict)))"
   ]
  },
  {
   "cell_type": "code",
   "execution_count": null,
   "metadata": {},
   "outputs": [],
   "source": []
  },
  {
   "cell_type": "markdown",
   "metadata": {},
   "source": [
    "# Keyword matching"
   ]
  },
  {
   "cell_type": "code",
   "execution_count": 23,
   "metadata": {},
   "outputs": [],
   "source": [
    "GREETING_INPUTS = (\"hello\", \"hi\", \"greetings\", \"sup\", \"what's up\",\"hey\",)\n",
    "GREETING_RESPONSES = [\"hi\", \"hey\", \"*nods*\", \"hi there\", \"hello\", \"I am glad! You are talking to me\"]\n",
    "def greeting(sentence):\n",
    " \n",
    "    for word in sentence.split():\n",
    "        if word.lower() in GREETING_INPUTS:\n",
    "            return random.choice(GREETING_RESPONSES)"
   ]
  },
  {
   "cell_type": "markdown",
   "metadata": {},
   "source": [
    "# Generating Response from cosine similarity"
   ]
  },
  {
   "cell_type": "code",
   "execution_count": 24,
   "metadata": {},
   "outputs": [
    {
     "name": "stdout",
     "output_type": "stream",
     "text": [
      "Requirement already satisfied: google in c:\\users\\sodom\\anaconda3\\lib\\site-packages (3.0.0)Note: you may need to restart the kernel to use updated packages.\n",
      "Requirement already satisfied: beautifulsoup4 in c:\\users\\sodom\\anaconda3\\lib\\site-packages (from google) (4.9.1)\n",
      "Requirement already satisfied: soupsieve>1.2 in c:\\users\\sodom\\anaconda3\\lib\\site-packages (from beautifulsoup4->google) (2.0.1)\n",
      "\n"
     ]
    }
   ],
   "source": [
    "pip install google"
   ]
  },
  {
   "cell_type": "code",
   "execution_count": 25,
   "metadata": {},
   "outputs": [],
   "source": [
    "from googlesearch import search  \n",
    "def response(user_response):\n",
    "    robo_response=''  \n",
    "    sent_tokens.append(user_response)\n",
    "    TfidfVec = TfidfVectorizer(tokenizer=LemNormalize, stop_words='english')\n",
    "    tfidf = TfidfVec.fit_transform(sent_tokens)\n",
    "    vals = cosine_similarity(tfidf[-1], tfidf)\n",
    "#     vals = linear_kernel(tfidf[-1], tfidf)\n",
    "    idx=vals.argsort()[0][-2]\n",
    "    flat = vals.flatten()\n",
    "    flat.sort()\n",
    "    req_tfidf = flat[-2]\n",
    "    if(req_tfidf==0):\n",
    "        query = user_response\n",
    "        links = []\n",
    "        for j in search(query, tld=\"co.in\", num=10, stop=10, pause=2): \n",
    "            links.append(j) \n",
    "        robo_response= print(\"I don't know \"+ user_response+\" \\n \\n But you can find more in this link\",links[0])\n",
    "        return robo_response\n",
    "    else:\n",
    "        robo_response = robo_response+sent_tokens[idx]\n",
    "        return robo_response\n"
   ]
  },
  {
   "cell_type": "code",
   "execution_count": 45,
   "metadata": {
    "scrolled": false
   },
   "outputs": [
    {
     "name": "stdout",
     "output_type": "stream",
     "text": [
      "BotK: My name is BotK. I will answer your question about Coronavirus. If you want to exit, type Bye!\n",
      "hi\n",
      "BotK: hello\n",
      "What is coronavirus\n",
      "BotK: a novel coronavirus (cov) is a new strain of coronavirus that has not been previously identified in humans.\n",
      "treatment\n",
      "BotK: there is no specific treatment for disease caused by a novel coronavirus.\n",
      "symptoms\n",
      "BotK: the symptoms it depends on the virus, but common signs include respiratory symptoms, fever, cough, shortness of breath, and breathing difficulties.\n",
      "protection\n",
      "BotK: standard recommendations protection to reduce exposure to and transmission of a range of illnesses include maintaining basic hand and respiratory hygiene, and safe food practices and avoiding close contact, when possible, with anyone showing symptoms of respiratory illness such as coughing and sneezing.\n",
      "vaccine\n",
      "BotK: when a disease is new, there is no vaccine until one is developed.\n",
      "KMUTT\n",
      "BotK: I don't know kmutt \n",
      " \n",
      " But you can find more in this link https://www.kmutt.ac.th/en/\n",
      "None\n",
      "Harry potter\n",
      "BotK: I don't know harry potter \n",
      " \n",
      " But you can find more in this link https://en.wikipedia.org/wiki/Harry_Potter\n",
      "None\n",
      "bye\n",
      "BotK: Bye! take care your self to pass this situation together\n"
     ]
    }
   ],
   "source": [
    "\n",
    "flag=True\n",
    "print(\"BotK: My name is BotK. I will answer your question about Coronavirus. If you want to exit, type Bye!\")\n",
    "while(flag==True):\n",
    "    user_response = input()\n",
    "    user_response=user_response.lower()\n",
    "    if(user_response!='bye'):\n",
    "        if(user_response=='thanks' or user_response=='thank you' ):\n",
    "            flag=False\n",
    "            print(\"BotK: You are welcome..\")\n",
    "        else:\n",
    "            if(greeting(user_response)!=None):\n",
    "                print(\"BotK: \"+greeting(user_response))\n",
    "            else:\n",
    "                print(\"BotK: \",end=\"\")\n",
    "                print(response(user_response))\n",
    "                sent_tokens.remove(user_response)\n",
    "    else:\n",
    "        flag=False\n",
    "        print(\"BotK: Bye! take care your self to pass this situation together\")\n"
   ]
  },
  {
   "cell_type": "code",
   "execution_count": null,
   "metadata": {},
   "outputs": [],
   "source": []
  }
 ],
 "metadata": {
  "kernelspec": {
   "display_name": "Python 3",
   "language": "python",
   "name": "python3"
  },
  "language_info": {
   "codemirror_mode": {
    "name": "ipython",
    "version": 3
   },
   "file_extension": ".py",
   "mimetype": "text/x-python",
   "name": "python",
   "nbconvert_exporter": "python",
   "pygments_lexer": "ipython3",
   "version": "3.8.3"
  }
 },
 "nbformat": 4,
 "nbformat_minor": 4
}
